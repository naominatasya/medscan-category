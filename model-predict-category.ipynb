{
 "cells": [
  {
   "cell_type": "code",
   "execution_count": 16,
   "id": "85c3cf21",
   "metadata": {},
   "outputs": [],
   "source": [
    "import pandas as pd\n",
    "from sklearn.model_selection import train_test_split\n",
    "from sklearn.feature_extraction.text import TfidfVectorizer\n",
    "from sklearn.preprocessing import LabelEncoder\n",
    "from sklearn.linear_model import LogisticRegression\n",
    "from sklearn.metrics import classification_report\n",
    "from sklearn.neighbors import KNeighborsClassifier\n",
    "import re\n",
    "import streamlit as st"
   ]
  },
  {
   "cell_type": "code",
   "execution_count": 17,
   "id": "2bef210c",
   "metadata": {},
   "outputs": [],
   "source": [
    "file_path = r\"C:\\Users\\Naomi Natasya\\Documents\\streamlit-category-product\\data\\gabungan_data20-24.xlsx\"\n",
    "data = pd.read_excel(file_path)"
   ]
  },
  {
   "cell_type": "code",
   "execution_count": 3,
   "id": "80d66879",
   "metadata": {},
   "outputs": [
    {
     "data": {
      "text/html": [
       "<div>\n",
       "<style scoped>\n",
       "    .dataframe tbody tr th:only-of-type {\n",
       "        vertical-align: middle;\n",
       "    }\n",
       "\n",
       "    .dataframe tbody tr th {\n",
       "        vertical-align: top;\n",
       "    }\n",
       "\n",
       "    .dataframe thead th {\n",
       "        text-align: right;\n",
       "    }\n",
       "</style>\n",
       "<table border=\"1\" class=\"dataframe\">\n",
       "  <thead>\n",
       "    <tr style=\"text-align: right;\">\n",
       "      <th></th>\n",
       "      <th>Nama Produk</th>\n",
       "      <th>Kategori Produk Baru Final</th>\n",
       "    </tr>\n",
       "  </thead>\n",
       "  <tbody>\n",
       "    <tr>\n",
       "      <th>0</th>\n",
       "      <td>Blood Pressure Monitor/ Tensimeter Digital Pow...</td>\n",
       "      <td>Blood Pressure Monitor</td>\n",
       "    </tr>\n",
       "    <tr>\n",
       "      <th>1</th>\n",
       "      <td>Non Absorbable Blu Polypropylene Monofilament ...</td>\n",
       "      <td>Suture</td>\n",
       "    </tr>\n",
       "    <tr>\n",
       "      <th>2</th>\n",
       "      <td>Nasal Oxygen Cannula Adult</td>\n",
       "      <td>Nasal Cannula</td>\n",
       "    </tr>\n",
       "    <tr>\n",
       "      <th>3</th>\n",
       "      <td>Surgical Mask Earloop, 3 Ply</td>\n",
       "      <td>Face Mask</td>\n",
       "    </tr>\n",
       "    <tr>\n",
       "      <th>4</th>\n",
       "      <td>Oxygen Mask Non Rebreathing Anak</td>\n",
       "      <td>Oxygen Mask</td>\n",
       "    </tr>\n",
       "    <tr>\n",
       "      <th>...</th>\n",
       "      <td>...</td>\n",
       "      <td>...</td>\n",
       "    </tr>\n",
       "    <tr>\n",
       "      <th>245881</th>\n",
       "      <td>ZYBIO Urinalysis Strip (Dry Chemistry Method) ...</td>\n",
       "      <td>Urinalysis Test Strip</td>\n",
       "    </tr>\n",
       "    <tr>\n",
       "      <th>245882</th>\n",
       "      <td>ZYBIO Z3 Hematology Analyzer And Accessories +...</td>\n",
       "      <td>Reagent</td>\n",
       "    </tr>\n",
       "    <tr>\n",
       "      <th>245883</th>\n",
       "      <td>ZYBIO Z3 Hematology Analyzer And Accessories +...</td>\n",
       "      <td>Reagent</td>\n",
       "    </tr>\n",
       "    <tr>\n",
       "      <th>245884</th>\n",
       "      <td>ZYBIO Z3 Hematology Analyzer And Accessories +...</td>\n",
       "      <td>Reagent</td>\n",
       "    </tr>\n",
       "    <tr>\n",
       "      <th>245885</th>\n",
       "      <td>Multicath 2 - 3 F</td>\n",
       "      <td>Catheters</td>\n",
       "    </tr>\n",
       "  </tbody>\n",
       "</table>\n",
       "<p>245886 rows × 2 columns</p>\n",
       "</div>"
      ],
      "text/plain": [
       "                                              Nama Produk  \\\n",
       "0       Blood Pressure Monitor/ Tensimeter Digital Pow...   \n",
       "1       Non Absorbable Blu Polypropylene Monofilament ...   \n",
       "2                              Nasal Oxygen Cannula Adult   \n",
       "3                            Surgical Mask Earloop, 3 Ply   \n",
       "4                        Oxygen Mask Non Rebreathing Anak   \n",
       "...                                                   ...   \n",
       "245881  ZYBIO Urinalysis Strip (Dry Chemistry Method) ...   \n",
       "245882  ZYBIO Z3 Hematology Analyzer And Accessories +...   \n",
       "245883  ZYBIO Z3 Hematology Analyzer And Accessories +...   \n",
       "245884  ZYBIO Z3 Hematology Analyzer And Accessories +...   \n",
       "245885                                  Multicath 2 - 3 F   \n",
       "\n",
       "       Kategori Produk Baru Final  \n",
       "0          Blood Pressure Monitor  \n",
       "1                          Suture  \n",
       "2                   Nasal Cannula  \n",
       "3                       Face Mask  \n",
       "4                     Oxygen Mask  \n",
       "...                           ...  \n",
       "245881      Urinalysis Test Strip  \n",
       "245882                    Reagent  \n",
       "245883                    Reagent  \n",
       "245884                    Reagent  \n",
       "245885                  Catheters  \n",
       "\n",
       "[245886 rows x 2 columns]"
      ]
     },
     "execution_count": 3,
     "metadata": {},
     "output_type": "execute_result"
    }
   ],
   "source": [
    "data"
   ]
  },
  {
   "cell_type": "code",
   "execution_count": 18,
   "id": "305ddb2a",
   "metadata": {},
   "outputs": [
    {
     "name": "stdout",
     "output_type": "stream",
     "text": [
      "Nama Produk                   0\n",
      "Kategori Produk Baru Final    0\n",
      "dtype: int64\n"
     ]
    }
   ],
   "source": [
    "print(data.isnull().sum())"
   ]
  },
  {
   "cell_type": "code",
   "execution_count": null,
   "id": "dd2a6a35",
   "metadata": {},
   "outputs": [],
   "source": [
    "\n",
    "import re\n",
    "\n",
    "def clean_product_name(name):\n",
    "    if isinstance(name, str):\n",
    "        # Ganti simbol '/', '-', dan 'x'/'X' dengan spasi\n",
    "        name = re.sub(r'[-/xX]', ' ', name)\n",
    "        \n",
    "        # Hapus angka\n",
    "        name = re.sub(r'\\d+', '', name)\n",
    "        \n",
    "        # Hapus karakter selain huruf dan spasi\n",
    "        name = re.sub(r'[^a-zA-Z\\s]', '', name)\n",
    "\n",
    "        # Ubah ke huruf kecil\n",
    "        name = name.lower()\n",
    "        \n",
    "        # Hapus kata yang hanya terdiri dari 1 huruf\n",
    "        name = ' '.join([word for word in name.split() if len(word) > 1])\n",
    "\n",
    "        # Hapus spasi berlebih\n",
    "        name = re.sub(r'\\s+', ' ', name).strip()\n",
    "        \n",
    "    return name\n",
    "\n",
    "\n",
    "# Menerapkan fungsi pembersihan pada kolom 'Nama Produk'\n",
    "data['Nama Produk'] = data['Nama Produk'].apply(clean_product_name)\n",
    "# Menghapus baris yang memiliki nilai kosong (NaN) di kolom 'Nama Produk' dan 'Kategori Produk'\n",
    "data_cleaned = data.dropna(subset=['Nama Produk', 'Kategori Produk Baru Final'])\n"
   ]
  },
  {
   "cell_type": "code",
   "execution_count": 20,
   "id": "47b14741",
   "metadata": {},
   "outputs": [
    {
     "name": "stdout",
     "output_type": "stream",
     "text": [
      "Baris dengan NaN:\n",
      " Empty DataFrame\n",
      "Columns: [Nama Produk, Kategori Produk Baru Final]\n",
      "Index: []\n"
     ]
    }
   ],
   "source": [
    "# Mencetak baris yang memiliki nilai NaN (jika ada)\n",
    "nan_data = data_cleaned[data_cleaned['Nama Produk'].isna() | data_cleaned['Kategori Produk Baru Final'].isna()]\n",
    "print(\"Baris dengan NaN:\\n\", nan_data)"
   ]
  },
  {
   "cell_type": "code",
   "execution_count": 21,
   "id": "2a108f71",
   "metadata": {},
   "outputs": [
    {
     "data": {
      "text/html": [
       "<div>\n",
       "<style scoped>\n",
       "    .dataframe tbody tr th:only-of-type {\n",
       "        vertical-align: middle;\n",
       "    }\n",
       "\n",
       "    .dataframe tbody tr th {\n",
       "        vertical-align: top;\n",
       "    }\n",
       "\n",
       "    .dataframe thead th {\n",
       "        text-align: right;\n",
       "    }\n",
       "</style>\n",
       "<table border=\"1\" class=\"dataframe\">\n",
       "  <thead>\n",
       "    <tr style=\"text-align: right;\">\n",
       "      <th></th>\n",
       "      <th>Nama Produk</th>\n",
       "      <th>Kategori Produk Baru Final</th>\n",
       "    </tr>\n",
       "  </thead>\n",
       "  <tbody>\n",
       "    <tr>\n",
       "      <th>0</th>\n",
       "      <td>blood pressure monitor tensimeter digital powe...</td>\n",
       "      <td>Blood Pressure Monitor</td>\n",
       "    </tr>\n",
       "    <tr>\n",
       "      <th>1</th>\n",
       "      <td>non absorbable blu polypropylene monofilament ...</td>\n",
       "      <td>Suture</td>\n",
       "    </tr>\n",
       "    <tr>\n",
       "      <th>2</th>\n",
       "      <td>nasal ygen cannula adult</td>\n",
       "      <td>Nasal Cannula</td>\n",
       "    </tr>\n",
       "    <tr>\n",
       "      <th>3</th>\n",
       "      <td>surgical mask earloop ply</td>\n",
       "      <td>Face Mask</td>\n",
       "    </tr>\n",
       "    <tr>\n",
       "      <th>4</th>\n",
       "      <td>ygen mask non rebreathing anak</td>\n",
       "      <td>Oxygen Mask</td>\n",
       "    </tr>\n",
       "    <tr>\n",
       "      <th>...</th>\n",
       "      <td>...</td>\n",
       "      <td>...</td>\n",
       "    </tr>\n",
       "    <tr>\n",
       "      <th>245881</th>\n",
       "      <td>zybio urinalysis strip dry chemistry method fu</td>\n",
       "      <td>Urinalysis Test Strip</td>\n",
       "    </tr>\n",
       "    <tr>\n",
       "      <th>245882</th>\n",
       "      <td>zybio hematology analyzer and accessories reagent</td>\n",
       "      <td>Reagent</td>\n",
       "    </tr>\n",
       "    <tr>\n",
       "      <th>245883</th>\n",
       "      <td>zybio hematology analyzer and accessories reagent</td>\n",
       "      <td>Reagent</td>\n",
       "    </tr>\n",
       "    <tr>\n",
       "      <th>245884</th>\n",
       "      <td>zybio hematology analyzer and accessories reag...</td>\n",
       "      <td>Reagent</td>\n",
       "    </tr>\n",
       "    <tr>\n",
       "      <th>245885</th>\n",
       "      <td>multicath</td>\n",
       "      <td>Catheters</td>\n",
       "    </tr>\n",
       "  </tbody>\n",
       "</table>\n",
       "<p>245886 rows × 2 columns</p>\n",
       "</div>"
      ],
      "text/plain": [
       "                                              Nama Produk  \\\n",
       "0       blood pressure monitor tensimeter digital powe...   \n",
       "1       non absorbable blu polypropylene monofilament ...   \n",
       "2                                nasal ygen cannula adult   \n",
       "3                               surgical mask earloop ply   \n",
       "4                          ygen mask non rebreathing anak   \n",
       "...                                                   ...   \n",
       "245881     zybio urinalysis strip dry chemistry method fu   \n",
       "245882  zybio hematology analyzer and accessories reagent   \n",
       "245883  zybio hematology analyzer and accessories reagent   \n",
       "245884  zybio hematology analyzer and accessories reag...   \n",
       "245885                                          multicath   \n",
       "\n",
       "       Kategori Produk Baru Final  \n",
       "0          Blood Pressure Monitor  \n",
       "1                          Suture  \n",
       "2                   Nasal Cannula  \n",
       "3                       Face Mask  \n",
       "4                     Oxygen Mask  \n",
       "...                           ...  \n",
       "245881      Urinalysis Test Strip  \n",
       "245882                    Reagent  \n",
       "245883                    Reagent  \n",
       "245884                    Reagent  \n",
       "245885                  Catheters  \n",
       "\n",
       "[245886 rows x 2 columns]"
      ]
     },
     "execution_count": 21,
     "metadata": {},
     "output_type": "execute_result"
    }
   ],
   "source": [
    "data_cleaned"
   ]
  },
  {
   "cell_type": "code",
   "execution_count": 28,
   "id": "c09764c6",
   "metadata": {},
   "outputs": [],
   "source": [
    "data_cleaned.to_excel(r\"C:\\Users\\Naomi Natasya\\Downloads\\datacleaned.xlsx\")"
   ]
  },
  {
   "cell_type": "code",
   "execution_count": 25,
   "id": "a8bc4717",
   "metadata": {},
   "outputs": [],
   "source": [
    "# Filter hanya kategori yang punya ≥ 30 data\n",
    "kategori_counts = data_cleaned['Kategori Produk Baru Final'].value_counts()\n",
    "kategori_terpilih = kategori_counts[kategori_counts >= 30].index\n",
    "data_filtered = data_cleaned[data_cleaned['Kategori Produk Baru Final'].isin(kategori_terpilih)].reset_index(drop=True)\n"
   ]
  },
  {
   "cell_type": "code",
   "execution_count": 30,
   "id": "e6f977bb",
   "metadata": {},
   "outputs": [],
   "source": [
    "# Label Encoding\n",
    "label_encoder = LabelEncoder()\n",
    "data_filtered['Kategori Produk Encoded'] = label_encoder.fit_transform(data_filtered['Kategori Produk Baru Final'])\n"
   ]
  },
  {
   "cell_type": "code",
   "execution_count": 31,
   "id": "8d55ca20",
   "metadata": {},
   "outputs": [],
   "source": [
    "vectorizer = TfidfVectorizer()\n",
    "X = vectorizer.fit_transform(data_filtered['Nama Produk'])\n",
    "y = data_filtered['Kategori Produk Encoded']"
   ]
  },
  {
   "cell_type": "code",
   "execution_count": 33,
   "id": "c87eaa76",
   "metadata": {},
   "outputs": [],
   "source": [
    "# Train Test Split\n",
    "X_train, X_test, y_train, y_test = train_test_split(X, y, test_size=0.2, random_state=42)\n"
   ]
  },
  {
   "cell_type": "code",
   "execution_count": 34,
   "id": "844779c2",
   "metadata": {},
   "outputs": [
    {
     "name": "stdout",
     "output_type": "stream",
     "text": [
      "\n",
      "Label Encoding Kategori Produk Baru Final:\n",
      "Alcohol swab: 0\n",
      "Ambu Bag: 1\n",
      "Anesthesia Mask: 2\n",
      "Annuloplasty Ring: 3\n",
      "Baby Bed: 4\n",
      "Bandage: 5\n",
      "Bed Screen: 6\n",
      "Bed Sheet: 7\n",
      "Bed Side Cabinet: 8\n",
      "Blood Collection Needle: 9\n",
      "Blood Collection Tube: 10\n",
      "Blood Glucose/ Chol/ Uric Acid Monitor: 11\n",
      "Blood Glucose/ Chol/ Uric Acid Test Strip: 12\n",
      "Blood Pressure Monitor: 13\n",
      "Blood Transfusion Set: 14\n",
      "Bone Graft: 15\n",
      "Bone Plate: 16\n",
      "Bone Screw: 17\n",
      "Cannula: 18\n",
      "Cardiovascular Stent: 19\n",
      "Cardiovascular stent: 20\n",
      "Catheter Lubricant: 21\n",
      "Catheter Mount: 22\n",
      "Catheters: 23\n",
      "Chemical indicator strip: 24\n",
      "Closed Wound Suction Drainage System: 25\n",
      "Ct Scanner: 26\n",
      "Defibrillator: 27\n",
      "Defibrillator Monitor: 28\n",
      "Dental Strip: 29\n",
      "Disposal Bag: 30\n",
      "Drape: 31\n",
      "Ecg Electrode: 32\n",
      "Electrocardiograph Machine: 33\n",
      "Endotracheal Tube: 34\n",
      "Examination Bed: 35\n",
      "Examination Lamp: 36\n",
      "Extension Tube: 37\n",
      "Face Mask: 38\n",
      "Fecal Occult Blood Test: 39\n",
      "Fetal Doppler: 40\n",
      "Fetal Monitor: 41\n",
      "Film Viewer: 42\n",
      "Forceps: 43\n",
      "Gastrointestinal Stent: 44\n",
      "Gauze: 45\n",
      "General Monitoring: 46\n",
      "Glove: 47\n",
      "Gloves: 48\n",
      "Gown: 49\n",
      "Gynaecolog Bed: 50\n",
      "Haemoglobin Strip: 51\n",
      "Hcv Test Kit: 52\n",
      "Hemoglobin Test Strips: 53\n",
      "Hemostatic Sponge: 54\n",
      "Hepatitis Test Kit: 55\n",
      "Hospital Bed: 56\n",
      "IV Catheter: 57\n",
      "Imaging Film: 58\n",
      "Incubator: 59\n",
      "Infant Incubator: 60\n",
      "Infant Resuscitator: 61\n",
      "Infusion Pump: 62\n",
      "Infusion Set: 63\n",
      "Infusion Splint: 64\n",
      "Infusion Stand: 65\n",
      "Introducer Sheath: 66\n",
      "Iv Catheter: 67\n",
      "Lancet: 68\n",
      "Laryngeal Mask: 69\n",
      "Locking Plate: 70\n",
      "Medical Pad: 71\n",
      "Nasal Cannula: 72\n",
      "Nebulizer: 73\n",
      "Needle: 74\n",
      "Needle Holder: 75\n",
      "Non-Rebreathing Mask: 76\n",
      "Operating Theatre: 77\n",
      "Orthopedic Drill: 78\n",
      "Orthopedic Fixator: 79\n",
      "Orthopedic Implant: 80\n",
      "Orthopedic Wire: 81\n",
      "Oxygen Mask: 82\n",
      "Pacemaker: 83\n",
      "Patient Monitor Cuff: 84\n",
      "Peripheral Vascular Stent: 85\n",
      "Pipet: 86\n",
      "Plaster: 87\n",
      "Pregnancy Test: 88\n",
      "Protection Equipment: 89\n",
      "Pulse oximeter: 90\n",
      "Rak Pipet: 91\n",
      "Reagent: 92\n",
      "Reagent Cleaner: 93\n",
      "Retractors: 94\n",
      "Retrieval Catheter: 95\n",
      "SPO2 Finger Sensor: 96\n",
      "Safety Box: 97\n",
      "Scissors: 98\n",
      "Simulator: 99\n",
      "Stent Graft: 100\n",
      "Sterilizer: 101\n",
      "Stethoscope: 102\n",
      "Stomach Tube: 103\n",
      "Stopcock: 104\n",
      "Suction Pump: 105\n",
      "Suction Tube: 106\n",
      "Surgical Blades: 107\n",
      "Surgical Stapler: 108\n",
      "Suture: 109\n",
      "Syringe: 110\n",
      "Syringe Pump: 111\n",
      "Test Strip dan Lancet: 112\n",
      "Transfer Bed: 113\n",
      "USG Paper: 114\n",
      "Ultrasound Gel: 115\n",
      "Ultrasound Machine: 116\n",
      "Ultrasound Paper: 117\n",
      "Ultrasound Therapy: 118\n",
      "Ultrasound machine: 119\n",
      "Urinal: 120\n",
      "Urinalysis Test Strip: 121\n",
      "Urine Bag: 122\n",
      "Urological Stent: 123\n",
      "Ventilator: 124\n",
      "Wash Gloves: 125\n",
      "Weight Scale: 126\n",
      "Wheelchair: 127\n",
      "Wound Dressing: 128\n",
      "X-ray: 129\n"
     ]
    }
   ],
   "source": [
    "# Menampilkan label encoding kategori produk\n",
    "print(\"\\nLabel Encoding Kategori Produk Baru Final:\")\n",
    "for label, encoded_label in zip(label_encoder.classes_, range(len(label_encoder.classes_))):\n",
    "    print(f'{label}: {encoded_label}')"
   ]
  },
  {
   "cell_type": "code",
   "execution_count": 35,
   "id": "010d3cf2",
   "metadata": {},
   "outputs": [],
   "source": [
    "X_train, X_test, y_train, y_test = train_test_split(X, y, test_size=0.2, random_state=42)\n"
   ]
  },
  {
   "cell_type": "code",
   "execution_count": 36,
   "id": "6206fa16",
   "metadata": {},
   "outputs": [
    {
     "name": "stdout",
     "output_type": "stream",
     "text": [
      "\n",
      "Classification Report - KNN Model:\n",
      "              precision    recall  f1-score   support\n",
      "\n",
      "           0       1.00      1.00      1.00       660\n",
      "           1       0.99      0.99      0.99       278\n",
      "           2       0.97      0.99      0.98       111\n",
      "           3       1.00      1.00      1.00        18\n",
      "           4       0.98      0.98      0.98        55\n",
      "           5       0.74      0.99      0.85       387\n",
      "           6       1.00      0.88      0.93        16\n",
      "           7       1.00      1.00      1.00         6\n",
      "           8       0.20      1.00      0.33         1\n",
      "           9       0.87      0.88      0.87        75\n",
      "          10       0.99      0.99      0.99       641\n",
      "          11       0.91      0.89      0.90       133\n",
      "          12       0.99      0.98      0.99      2415\n",
      "          13       0.99      0.98      0.99       744\n",
      "          14       0.97      0.99      0.98       255\n",
      "          15       0.96      1.00      0.98        44\n",
      "          16       0.97      0.96      0.96       254\n",
      "          17       0.99      0.99      0.99      1058\n",
      "          18       0.89      0.91      0.90       222\n",
      "          19       0.75      0.87      0.80       116\n",
      "          20       0.88      0.77      0.82       149\n",
      "          21       0.60      1.00      0.75         9\n",
      "          22       0.71      1.00      0.83        22\n",
      "          23       0.93      0.97      0.95      3756\n",
      "          24       1.00      1.00      1.00         7\n",
      "          25       1.00      1.00      1.00        15\n",
      "          26       1.00      0.88      0.93         8\n",
      "          27       0.88      0.93      0.90        82\n",
      "          28       0.63      0.79      0.70        24\n",
      "          29       1.00      0.80      0.89         5\n",
      "          30       0.92      0.90      0.91       154\n",
      "          31       0.97      0.97      0.97       217\n",
      "          32       0.96      0.93      0.95       200\n",
      "          33       0.99      0.98      0.98       202\n",
      "          34       1.00      0.98      0.99       860\n",
      "          35       0.97      0.98      0.97       142\n",
      "          36       0.99      1.00      1.00       213\n",
      "          37       0.91      0.89      0.90       149\n",
      "          38       0.99      0.99      0.99       989\n",
      "          39       1.00      1.00      1.00         4\n",
      "          40       0.98      0.97      0.97       345\n",
      "          41       0.86      0.84      0.85        38\n",
      "          42       1.00      0.95      0.97        39\n",
      "          43       0.98      0.98      0.98       949\n",
      "          44       1.00      1.00      1.00         6\n",
      "          45       0.99      0.99      0.99      1459\n",
      "          46       0.92      0.88      0.90       275\n",
      "          47       0.73      0.53      0.61       699\n",
      "          48       0.85      0.93      0.89      2035\n",
      "          49       0.99      0.99      0.99       350\n",
      "          50       0.94      0.93      0.93        80\n",
      "          51       0.90      0.82      0.86        22\n",
      "          52       0.95      1.00      0.98        21\n",
      "          53       0.94      0.95      0.94       344\n",
      "          54       1.00      1.00      1.00        17\n",
      "          55       0.84      0.94      0.89        52\n",
      "          56       0.98      0.93      0.95       421\n",
      "          57       0.78      0.91      0.84      1769\n",
      "          58       0.97      0.95      0.96        76\n",
      "          59       0.87      0.69      0.77        39\n",
      "          60       0.97      0.94      0.96        82\n",
      "          61       0.97      0.97      0.97        34\n",
      "          62       0.92      0.94      0.93       123\n",
      "          63       0.96      0.97      0.97      1045\n",
      "          64       1.00      0.93      0.97        15\n",
      "          65       0.92      0.79      0.85       180\n",
      "          66       0.97      1.00      0.98       253\n",
      "          67       0.72      0.31      0.44       588\n",
      "          68       0.99      0.97      0.98       582\n",
      "          69       0.98      0.99      0.98       160\n",
      "          70       0.95      1.00      0.98        20\n",
      "          71       0.99      0.98      0.99       349\n",
      "          72       0.95      0.99      0.97       896\n",
      "          73       0.98      0.96      0.97       209\n",
      "          74       0.78      0.98      0.87      1238\n",
      "          75       0.99      0.88      0.93        88\n",
      "          76       0.67      0.95      0.78        19\n",
      "          77       0.50      0.17      0.25         6\n",
      "          78       0.94      0.71      0.81        21\n",
      "          79       0.96      0.86      0.91        50\n",
      "          80       0.98      0.97      0.97      1245\n",
      "          81       0.98      1.00      0.99       129\n",
      "          82       0.99      0.96      0.97      1303\n",
      "          83       1.00      0.98      0.99        46\n",
      "          84       0.83      1.00      0.91         5\n",
      "          85       1.00      0.83      0.91         6\n",
      "          86       0.99      0.97      0.98       581\n",
      "          87       0.99      0.87      0.93      1011\n",
      "          88       0.98      0.99      0.98       312\n",
      "          89       0.92      0.92      0.92        12\n",
      "          90       0.98      0.98      0.98        59\n",
      "          91       1.00      1.00      1.00         7\n",
      "          92       0.99      0.95      0.97      1441\n",
      "          93       1.00      1.00      1.00         6\n",
      "          94       1.00      0.66      0.79        29\n",
      "          95       0.89      1.00      0.94        17\n",
      "          96       1.00      1.00      1.00         6\n",
      "          97       0.99      1.00      1.00       113\n",
      "          98       1.00      0.97      0.98       349\n",
      "          99       0.98      0.64      0.77       124\n",
      "         100       1.00      1.00      1.00         5\n",
      "         101       0.99      0.92      0.95       237\n",
      "         102       0.99      0.98      0.99       650\n",
      "         103       1.00      1.00      1.00       670\n",
      "         104       0.99      0.98      0.99       202\n",
      "         105       0.99      0.98      0.99       222\n",
      "         106       0.84      0.63      0.72        60\n",
      "         107       0.99      0.99      0.99       157\n",
      "         108       0.88      0.95      0.92        86\n",
      "         109       1.00      0.98      0.99      4727\n",
      "         110       1.00      0.99      0.99      3129\n",
      "         111       0.96      0.92      0.94       141\n",
      "         112       1.00      0.96      0.98        26\n",
      "         113       0.99      0.96      0.98       133\n",
      "         114       1.00      1.00      1.00        23\n",
      "         115       1.00      0.99      1.00       362\n",
      "         116       0.96      0.92      0.94       214\n",
      "         117       1.00      1.00      1.00        23\n",
      "         118       1.00      1.00      1.00         4\n",
      "         119       0.90      0.68      0.78        28\n",
      "         120       0.95      1.00      0.97        18\n",
      "         121       0.92      0.95      0.94       221\n",
      "         122       0.97      0.99      0.98       390\n",
      "         123       1.00      1.00      1.00        37\n",
      "         124       0.99      0.92      0.95       137\n",
      "         125       1.00      0.75      0.86        12\n",
      "         126       1.00      1.00      1.00       193\n",
      "         127       1.00      0.99      1.00       239\n",
      "         128       0.99      0.94      0.97       185\n",
      "         129       0.96      0.51      0.67        45\n",
      "\n",
      "    accuracy                           0.95     49067\n",
      "   macro avg       0.94      0.92      0.92     49067\n",
      "weighted avg       0.95      0.95      0.95     49067\n",
      "\n"
     ]
    }
   ],
   "source": [
    "# Model KNN\n",
    "knn = KNeighborsClassifier(n_neighbors=3)\n",
    "knn.fit(X_train, y_train)\n",
    "y_pred_knn = knn.predict(X_test)\n",
    "\n",
    "# Melatih model KNN menggunakan data latih\n",
    "knn.fit(X_train, y_train)\n",
    "\n",
    "# Menggunakan model untuk memprediksi kategori produk di data uji\n",
    "y_pred_knn = knn.predict(X_test)\n",
    "# Evaluasi model KNN menggunakan classification report\n",
    "print(\"\\nClassification Report - KNN Model:\")\n",
    "print(classification_report(y_test, y_pred_knn))"
   ]
  },
  {
   "cell_type": "code",
   "execution_count": 13,
   "id": "7c4035e4",
   "metadata": {},
   "outputs": [],
   "source": [
    "from sklearn.metrics.pairwise import cosine_similarity\n",
    "import numpy as np\n",
    "\n",
    "def predict_category_with_threshold(product_name, threshold=0.5):\n",
    "    # Pembersihan nama produk (case folding)\n",
    "    product_name_cleaned = clean_product_name(product_name)\n",
    "    \n",
    "    # Mengonversi produk yang sudah dibersihkan menjadi fitur numerik\n",
    "    product_name_vectorized = vectorizer.transform([product_name_cleaned])\n",
    "    \n",
    "    # Menghitung kesamaan cosine antara produk input dan produk di data pelatihan\n",
    "    cosine_similarities = cosine_similarity(product_name_vectorized, X_train)\n",
    "    \n",
    "    # Mencari nilai maksimum dari cosine similarities (nilai kesamaan tertinggi)\n",
    "    max_similarity = np.max(cosine_similarities)\n",
    "    \n",
    "    # Jika nilai kesamaan lebih rendah dari threshold, anggap tidak ada kecocokan yang valid\n",
    "    if max_similarity < threshold:\n",
    "        return \"\"  # Mengembalikan hasil kosong jika tidak ada kecocokan yang cukup\n",
    "    \n",
    "    # Jika kesamaan cukup tinggi, lakukan prediksi kategori menggunakan KNN\n",
    "    predicted_category_encoded = knn.predict(product_name_vectorized)\n",
    "    \n",
    "    # Mengubah hasil prediksi kembali ke kategori asli menggunakan LabelEncoder\n",
    "    predicted_category = label_encoder.inverse_transform(predicted_category_encoded)\n",
    "    \n",
    "    return predicted_category[0]\n"
   ]
  },
  {
   "cell_type": "code",
   "execution_count": 38,
   "id": "f29ae7f2",
   "metadata": {},
   "outputs": [
    {
     "name": "stdout",
     "output_type": "stream",
     "text": [
      "The predicted category for 'SYRINGE PUMP F04' is: Syringe Pump\n"
     ]
    }
   ],
   "source": [
    "product_name = \"SYRINGE PUMP F04\"\n",
    "predicted_category = predict_category_with_threshold(product_name, threshold=0.5)\n",
    "print(f\"The predicted category for '{product_name}' is: {predicted_category if predicted_category else 'Not Available'}\")\n"
   ]
  },
  {
   "cell_type": "code",
   "execution_count": 37,
   "id": "e0d68788",
   "metadata": {},
   "outputs": [
    {
     "name": "stdout",
     "output_type": "stream",
     "text": [
      "The predicted category for 'NEW KIJANG INNOVA 2.4 G A/T DSL VIN 2021' is: Not Available\n"
     ]
    }
   ],
   "source": [
    "product_name = \"NEW KIJANG INNOVA 2.4 G A/T DSL VIN 2021\"\n",
    "predicted_category = predict_category_with_threshold(product_name, threshold=0.5)\n",
    "print(f\"The predicted category for '{product_name}' is: {predicted_category if predicted_category else 'Not Available'}\")\n"
   ]
  },
  {
   "cell_type": "code",
   "execution_count": 39,
   "id": "56d34d4d",
   "metadata": {},
   "outputs": [
    {
     "data": {
      "text/plain": [
       "['knn_model.pkl']"
      ]
     },
     "execution_count": 39,
     "metadata": {},
     "output_type": "execute_result"
    }
   ],
   "source": [
    "import joblib\n",
    "\n",
    "# Setelah Anda melatih model KNN, simpan model dan vectorizer\n",
    "joblib.dump(knn, 'knn_model.pkl')"
   ]
  },
  {
   "cell_type": "code",
   "execution_count": 40,
   "id": "5fccaf52",
   "metadata": {},
   "outputs": [
    {
     "data": {
      "text/plain": [
       "['vectorizer.pkl']"
      ]
     },
     "execution_count": 40,
     "metadata": {},
     "output_type": "execute_result"
    }
   ],
   "source": [
    "\n",
    "joblib.dump(vectorizer, 'vectorizer.pkl')\n",
    "\n"
   ]
  },
  {
   "cell_type": "code",
   "execution_count": 41,
   "id": "c3a4c1b6",
   "metadata": {},
   "outputs": [
    {
     "data": {
      "text/plain": [
       "['label_encoder.pkl']"
      ]
     },
     "execution_count": 41,
     "metadata": {},
     "output_type": "execute_result"
    }
   ],
   "source": [
    "\n",
    "joblib.dump(label_encoder, 'label_encoder.pkl')"
   ]
  },
  {
   "cell_type": "code",
   "execution_count": 42,
   "id": "26c76d9f",
   "metadata": {},
   "outputs": [
    {
     "data": {
      "text/plain": [
       "['X_train.pkl']"
      ]
     },
     "execution_count": 42,
     "metadata": {},
     "output_type": "execute_result"
    }
   ],
   "source": [
    "\n",
    "joblib.dump(X_train, 'X_train.pkl')"
   ]
  },
  {
   "cell_type": "code",
   "execution_count": 43,
   "id": "82bddfdf",
   "metadata": {},
   "outputs": [
    {
     "data": {
      "text/plain": [
       "['X_test.pkl']"
      ]
     },
     "execution_count": 43,
     "metadata": {},
     "output_type": "execute_result"
    }
   ],
   "source": [
    "\n",
    "joblib.dump(X_test, 'X_test.pkl')"
   ]
  },
  {
   "cell_type": "code",
   "execution_count": 25,
   "id": "cf700d38",
   "metadata": {},
   "outputs": [
    {
     "name": "stdout",
     "output_type": "stream",
     "text": [
      "Requirement already satisfied: pandas in c:\\users\\naomi natasya\\appdata\\local\\programs\\python\\python38\\lib\\site-packages (2.0.3)Note: you may need to restart the kernel to use updated packages.\n",
      "\n",
      "Requirement already satisfied: joblib in c:\\users\\naomi natasya\\appdata\\local\\programs\\python\\python38\\lib\\site-packages (1.3.2)\n",
      "Requirement already satisfied: scikit-learn in c:\\users\\naomi natasya\\appdata\\local\\programs\\python\\python38\\lib\\site-packages (1.3.2)\n",
      "Requirement already satisfied: openpyxl in c:\\users\\naomi natasya\\appdata\\local\\programs\\python\\python38\\lib\\site-packages (3.1.2)\n",
      "Requirement already satisfied: python-dateutil>=2.8.2 in c:\\users\\naomi natasya\\appdata\\local\\programs\\python\\python38\\lib\\site-packages (from pandas) (2.8.2)\n",
      "Requirement already satisfied: pytz>=2020.1 in c:\\users\\naomi natasya\\appdata\\local\\programs\\python\\python38\\lib\\site-packages (from pandas) (2023.4)\n",
      "Requirement already satisfied: tzdata>=2022.1 in c:\\users\\naomi natasya\\appdata\\local\\programs\\python\\python38\\lib\\site-packages (from pandas) (2023.4)\n",
      "Requirement already satisfied: numpy>=1.20.3 in c:\\users\\naomi natasya\\appdata\\local\\programs\\python\\python38\\lib\\site-packages (from pandas) (1.24.3)\n",
      "Requirement already satisfied: scipy>=1.5.0 in c:\\users\\naomi natasya\\appdata\\local\\programs\\python\\python38\\lib\\site-packages (from scikit-learn) (1.10.1)\n",
      "Requirement already satisfied: threadpoolctl>=2.0.0 in c:\\users\\naomi natasya\\appdata\\local\\programs\\python\\python38\\lib\\site-packages (from scikit-learn) (3.3.0)\n",
      "Requirement already satisfied: et-xmlfile in c:\\users\\naomi natasya\\appdata\\local\\programs\\python\\python38\\lib\\site-packages (from openpyxl) (1.1.0)\n",
      "Requirement already satisfied: six>=1.5 in c:\\users\\naomi natasya\\appdata\\local\\programs\\python\\python38\\lib\\site-packages (from python-dateutil>=2.8.2->pandas) (1.16.0)\n"
     ]
    }
   ],
   "source": [
    "pip install pandas joblib scikit-learn openpyxl\n"
   ]
  },
  {
   "cell_type": "code",
   "execution_count": 44,
   "id": "6bcacfa1",
   "metadata": {},
   "outputs": [],
   "source": [
    "import pandas as pd\n",
    "import joblib\n",
    "import re\n",
    "import numpy as np\n",
    "\n",
    "from sklearn.metrics.pairwise import cosine_similarity\n",
    "\n",
    "# Fungsi pembersihan nama produk\n",
    "def clean_product_name(name):\n",
    "    if isinstance(name, str):\n",
    "        # Menghapus angka dan karakter selain huruf, angka, spasi, dan '/'\n",
    "        name = re.sub(r'[^a-zA-Z0-9\\s/]', '', name)\n",
    "        # Mengganti '/' dengan spasi\n",
    "        name = re.sub(r'/', ' ', name)\n",
    "        # Mengubah menjadi huruf kecil\n",
    "        name = name.lower()\n",
    "    return name\n",
    "\n",
    "# Memuat X_train yang sudah disimpan\n",
    "X_train = joblib.load('X_train.pkl')\n",
    "\n",
    "# Memuat model, vectorizer, label encoder yang sudah disimpan\n",
    "knn = joblib.load('knn_model.pkl')\n",
    "vectorizer = joblib.load('vectorizer.pkl')\n",
    "label_encoder = joblib.load('label_encoder.pkl')\n",
    "\n",
    "# Fungsi prediksi Kategori Produk Baru Final dengan threshold\n",
    "def predict_category_with_threshold(product_name, knn, vectorizer, label_encoder, X_train, threshold=0.5):\n",
    "    product_name_cleaned = clean_product_name(product_name)\n",
    "    \n",
    "    # Gunakan vectorizer yang sudah dilatih, bukan fit_transform\n",
    "    product_name_vectorized = vectorizer.transform([product_name_cleaned])  # Hanya transformasi, bukan fit_transform\n",
    "    \n",
    "    # Menghitung kesamaan cosine antara produk input dan produk di data pelatihan\n",
    "    cosine_similarities = cosine_similarity(product_name_vectorized, X_train)\n",
    "    \n",
    "    # Mencari nilai maksimum dari cosine similarities (nilai kesamaan tertinggi)\n",
    "    max_similarity = np.max(cosine_similarities)\n",
    "    \n",
    "    # Jika kesamaan lebih rendah dari threshold, anggap tidak ada kecocokan yang valid\n",
    "    if max_similarity < threshold:\n",
    "        return \"Not Available\"  # Tidak ada kecocokan yang cukup\n",
    "    \n",
    "    # Prediksi kategori menggunakan model KNN\n",
    "    predicted_category_encoded = knn.predict(product_name_vectorized)\n",
    "    predicted_category = label_encoder.inverse_transform(predicted_category_encoded)\n",
    "    \n",
    "    return predicted_category[0]\n",
    "\n",
    "# Fungsi utama untuk memproses file Excel dan melakukan prediksi\n",
    "def process_and_predict(file_path):\n",
    "    # Membaca file Excel\n",
    "    data = pd.read_excel(file_path)\n",
    "\n",
    "    if 'Nama Produk' not in data.columns:\n",
    "        print(\"Data tidak memiliki kolom 'Nama Produk'. Pastikan file Excel memiliki kolom tersebut.\")\n",
    "        return\n",
    "\n",
    "    # Hapus baris yang kosong\n",
    "    data = data.dropna(subset=['Nama Produk'])\n",
    "\n",
    "    # Simpan versi asli sebelum dibersihkan\n",
    "    data['Nama Produk Asli'] = data['Nama Produk']  # <- Tambahkan ini\n",
    "\n",
    "    # Buat kolom bersih untuk prediksi saja\n",
    "    data['Nama Produk Bersih'] = data['Nama Produk'].apply(clean_product_name)\n",
    "\n",
    "    # Prediksi kategori untuk setiap baris menggunakan kolom bersih\n",
    "    data['Kategori Produk'] = data['Nama Produk Bersih'].apply(\n",
    "        lambda name: predict_category_with_threshold(name, knn, vectorizer, label_encoder, X_train, threshold=0.5)\n",
    "    )\n",
    "\n",
    "    # Drop kolom bersih, hanya simpan kolom asli dan hasil prediksi\n",
    "    data = data.drop(columns=['Nama Produk', 'Nama Produk Bersih'])\n",
    "    data = data.rename(columns={'Nama Produk Asli': 'Nama Produk'})\n",
    "\n",
    "    # Simpan hasil akhir\n",
    "    output_file = r\"C:\\Users\\Naomi Natasya\\Downloads\\predicted_product_categories.xlsx\"\n",
    "    data.to_excel(output_file, index=False)\n",
    "    print(f\"File dengan prediksi kategori telah disimpan sebagai '{output_file}'.\")\n"
   ]
  },
  {
   "cell_type": "code",
   "execution_count": 49,
   "id": "4f740ba5",
   "metadata": {},
   "outputs": [
    {
     "name": "stdout",
     "output_type": "stream",
     "text": [
      "File dengan prediksi kategori telah disimpan sebagai 'C:\\Users\\Naomi Natasya\\Downloads\\predicted_product_categories.xlsx'.\n"
     ]
    }
   ],
   "source": [
    "\n",
    "# Path ke file yang ingin diproses\n",
    "file_path = r\"C:\\Users\\Naomi Natasya\\Downloads\\20-22.xlsx\"\n",
    "\n",
    "process_and_predict(file_path)\n"
   ]
  }
 ],
 "metadata": {
  "kernelspec": {
   "display_name": "Python 3",
   "language": "python",
   "name": "python3"
  },
  "language_info": {
   "codemirror_mode": {
    "name": "ipython",
    "version": 3
   },
   "file_extension": ".py",
   "mimetype": "text/x-python",
   "name": "python",
   "nbconvert_exporter": "python",
   "pygments_lexer": "ipython3",
   "version": "3.8.10"
  }
 },
 "nbformat": 4,
 "nbformat_minor": 5
}
